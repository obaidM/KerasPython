{
 "cells": [
  {
   "cell_type": "markdown",
   "metadata": {},
   "source": [
    "# DEEP AUTOENCODER-- meaning have more than one autoencoder and more than one deep autoencoder"
   ]
  },
  {
   "cell_type": "code",
   "execution_count": 1,
   "metadata": {},
   "outputs": [],
   "source": [
    "import pandas as pd\n",
    "import numpy as np\n",
    "import pickle"
   ]
  },
  {
   "cell_type": "code",
   "execution_count": 2,
   "metadata": {},
   "outputs": [
    {
     "name": "stderr",
     "output_type": "stream",
     "text": [
      "C:\\Users\\obaid\\Anaconda3\\lib\\site-packages\\tensorflow\\python\\framework\\dtypes.py:523: FutureWarning: Passing (type, 1) or '1type' as a synonym of type is deprecated; in a future version of numpy, it will be understood as (type, (1,)) / '(1,)type'.\n",
      "  _np_qint8 = np.dtype([(\"qint8\", np.int8, 1)])\n",
      "C:\\Users\\obaid\\Anaconda3\\lib\\site-packages\\tensorflow\\python\\framework\\dtypes.py:524: FutureWarning: Passing (type, 1) or '1type' as a synonym of type is deprecated; in a future version of numpy, it will be understood as (type, (1,)) / '(1,)type'.\n",
      "  _np_quint8 = np.dtype([(\"quint8\", np.uint8, 1)])\n",
      "C:\\Users\\obaid\\Anaconda3\\lib\\site-packages\\tensorflow\\python\\framework\\dtypes.py:525: FutureWarning: Passing (type, 1) or '1type' as a synonym of type is deprecated; in a future version of numpy, it will be understood as (type, (1,)) / '(1,)type'.\n",
      "  _np_qint16 = np.dtype([(\"qint16\", np.int16, 1)])\n",
      "C:\\Users\\obaid\\Anaconda3\\lib\\site-packages\\tensorflow\\python\\framework\\dtypes.py:526: FutureWarning: Passing (type, 1) or '1type' as a synonym of type is deprecated; in a future version of numpy, it will be understood as (type, (1,)) / '(1,)type'.\n",
      "  _np_quint16 = np.dtype([(\"quint16\", np.uint16, 1)])\n",
      "C:\\Users\\obaid\\Anaconda3\\lib\\site-packages\\tensorflow\\python\\framework\\dtypes.py:527: FutureWarning: Passing (type, 1) or '1type' as a synonym of type is deprecated; in a future version of numpy, it will be understood as (type, (1,)) / '(1,)type'.\n",
      "  _np_qint32 = np.dtype([(\"qint32\", np.int32, 1)])\n",
      "C:\\Users\\obaid\\Anaconda3\\lib\\site-packages\\tensorflow\\python\\framework\\dtypes.py:532: FutureWarning: Passing (type, 1) or '1type' as a synonym of type is deprecated; in a future version of numpy, it will be understood as (type, (1,)) / '(1,)type'.\n",
      "  np_resource = np.dtype([(\"resource\", np.ubyte, 1)])\n"
     ]
    }
   ],
   "source": [
    "import matplotlib.pyplot as plt\n",
    "from scipy import stats\n",
    "import tensorflow as tf\n",
    "import seaborn as sns"
   ]
  },
  {
   "cell_type": "code",
   "execution_count": 3,
   "metadata": {},
   "outputs": [
    {
     "name": "stdout",
     "output_type": "stream",
     "text": [
      "2.2.4\n"
     ]
    },
    {
     "name": "stderr",
     "output_type": "stream",
     "text": [
      "Using TensorFlow backend.\n"
     ]
    }
   ],
   "source": [
    "import keras \n",
    "print(keras.__version__)"
   ]
  },
  {
   "cell_type": "code",
   "execution_count": 4,
   "metadata": {},
   "outputs": [],
   "source": [
    "from sklearn.model_selection import train_test_split\n",
    "from keras.models import Model, load_model\n",
    "from keras.layers import Input, Dense\n",
    "from keras.callbacks import ModelCheckpoint , TensorBoard\n",
    "from keras import regularizers"
   ]
  },
  {
   "cell_type": "code",
   "execution_count": 5,
   "metadata": {},
   "outputs": [],
   "source": [
    "df = pd.read_csv(\"creditcard.csv\")"
   ]
  },
  {
   "cell_type": "code",
   "execution_count": 6,
   "metadata": {},
   "outputs": [
    {
     "data": {
      "text/html": [
       "<div>\n",
       "<style scoped>\n",
       "    .dataframe tbody tr th:only-of-type {\n",
       "        vertical-align: middle;\n",
       "    }\n",
       "\n",
       "    .dataframe tbody tr th {\n",
       "        vertical-align: top;\n",
       "    }\n",
       "\n",
       "    .dataframe thead th {\n",
       "        text-align: right;\n",
       "    }\n",
       "</style>\n",
       "<table border=\"1\" class=\"dataframe\">\n",
       "  <thead>\n",
       "    <tr style=\"text-align: right;\">\n",
       "      <th></th>\n",
       "      <th>Time</th>\n",
       "      <th>V1</th>\n",
       "      <th>V2</th>\n",
       "      <th>V3</th>\n",
       "      <th>V4</th>\n",
       "      <th>V5</th>\n",
       "      <th>V6</th>\n",
       "      <th>V7</th>\n",
       "      <th>V8</th>\n",
       "      <th>V9</th>\n",
       "      <th>...</th>\n",
       "      <th>V21</th>\n",
       "      <th>V22</th>\n",
       "      <th>V23</th>\n",
       "      <th>V24</th>\n",
       "      <th>V25</th>\n",
       "      <th>V26</th>\n",
       "      <th>V27</th>\n",
       "      <th>V28</th>\n",
       "      <th>Amount</th>\n",
       "      <th>Class</th>\n",
       "    </tr>\n",
       "  </thead>\n",
       "  <tbody>\n",
       "    <tr>\n",
       "      <td>0</td>\n",
       "      <td>0.0</td>\n",
       "      <td>-1.359807</td>\n",
       "      <td>-0.072781</td>\n",
       "      <td>2.536347</td>\n",
       "      <td>1.378155</td>\n",
       "      <td>-0.338321</td>\n",
       "      <td>0.462388</td>\n",
       "      <td>0.239599</td>\n",
       "      <td>0.098698</td>\n",
       "      <td>0.363787</td>\n",
       "      <td>...</td>\n",
       "      <td>-0.018307</td>\n",
       "      <td>0.277838</td>\n",
       "      <td>-0.110474</td>\n",
       "      <td>0.066928</td>\n",
       "      <td>0.128539</td>\n",
       "      <td>-0.189115</td>\n",
       "      <td>0.133558</td>\n",
       "      <td>-0.021053</td>\n",
       "      <td>149.62</td>\n",
       "      <td>0</td>\n",
       "    </tr>\n",
       "    <tr>\n",
       "      <td>1</td>\n",
       "      <td>0.0</td>\n",
       "      <td>1.191857</td>\n",
       "      <td>0.266151</td>\n",
       "      <td>0.166480</td>\n",
       "      <td>0.448154</td>\n",
       "      <td>0.060018</td>\n",
       "      <td>-0.082361</td>\n",
       "      <td>-0.078803</td>\n",
       "      <td>0.085102</td>\n",
       "      <td>-0.255425</td>\n",
       "      <td>...</td>\n",
       "      <td>-0.225775</td>\n",
       "      <td>-0.638672</td>\n",
       "      <td>0.101288</td>\n",
       "      <td>-0.339846</td>\n",
       "      <td>0.167170</td>\n",
       "      <td>0.125895</td>\n",
       "      <td>-0.008983</td>\n",
       "      <td>0.014724</td>\n",
       "      <td>2.69</td>\n",
       "      <td>0</td>\n",
       "    </tr>\n",
       "    <tr>\n",
       "      <td>2</td>\n",
       "      <td>1.0</td>\n",
       "      <td>-1.358354</td>\n",
       "      <td>-1.340163</td>\n",
       "      <td>1.773209</td>\n",
       "      <td>0.379780</td>\n",
       "      <td>-0.503198</td>\n",
       "      <td>1.800499</td>\n",
       "      <td>0.791461</td>\n",
       "      <td>0.247676</td>\n",
       "      <td>-1.514654</td>\n",
       "      <td>...</td>\n",
       "      <td>0.247998</td>\n",
       "      <td>0.771679</td>\n",
       "      <td>0.909412</td>\n",
       "      <td>-0.689281</td>\n",
       "      <td>-0.327642</td>\n",
       "      <td>-0.139097</td>\n",
       "      <td>-0.055353</td>\n",
       "      <td>-0.059752</td>\n",
       "      <td>378.66</td>\n",
       "      <td>0</td>\n",
       "    </tr>\n",
       "  </tbody>\n",
       "</table>\n",
       "<p>3 rows × 31 columns</p>\n",
       "</div>"
      ],
      "text/plain": [
       "   Time        V1        V2        V3        V4        V5        V6        V7  \\\n",
       "0   0.0 -1.359807 -0.072781  2.536347  1.378155 -0.338321  0.462388  0.239599   \n",
       "1   0.0  1.191857  0.266151  0.166480  0.448154  0.060018 -0.082361 -0.078803   \n",
       "2   1.0 -1.358354 -1.340163  1.773209  0.379780 -0.503198  1.800499  0.791461   \n",
       "\n",
       "         V8        V9  ...       V21       V22       V23       V24       V25  \\\n",
       "0  0.098698  0.363787  ... -0.018307  0.277838 -0.110474  0.066928  0.128539   \n",
       "1  0.085102 -0.255425  ... -0.225775 -0.638672  0.101288 -0.339846  0.167170   \n",
       "2  0.247676 -1.514654  ...  0.247998  0.771679  0.909412 -0.689281 -0.327642   \n",
       "\n",
       "        V26       V27       V28  Amount  Class  \n",
       "0 -0.189115  0.133558 -0.021053  149.62      0  \n",
       "1  0.125895 -0.008983  0.014724    2.69      0  \n",
       "2 -0.139097 -0.055353 -0.059752  378.66      0  \n",
       "\n",
       "[3 rows x 31 columns]"
      ]
     },
     "execution_count": 6,
     "metadata": {},
     "output_type": "execute_result"
    }
   ],
   "source": [
    "df.head(3)"
   ]
  },
  {
   "cell_type": "code",
   "execution_count": 7,
   "metadata": {},
   "outputs": [
    {
     "data": {
      "text/plain": [
       "(284807, 31)"
      ]
     },
     "execution_count": 7,
     "metadata": {},
     "output_type": "execute_result"
    }
   ],
   "source": [
    "df.shape"
   ]
  },
  {
   "cell_type": "markdown",
   "metadata": {},
   "source": [
    "# PreProcessing"
   ]
  },
  {
   "cell_type": "code",
   "execution_count": 8,
   "metadata": {},
   "outputs": [],
   "source": [
    "from sklearn.preprocessing import StandardScaler\n",
    "data= df.drop(['Time'],axis=1)   ### drop the time column\n",
    "data['Amount']=StandardScaler().fit_transform(data['Amount'].values.reshape(-1,1))"
   ]
  },
  {
   "cell_type": "markdown",
   "metadata": {},
   "source": [
    "# Split Dataset "
   ]
  },
  {
   "cell_type": "code",
   "execution_count": 9,
   "metadata": {},
   "outputs": [],
   "source": [
    "X_train, X_test = train_test_split(data,test_size=0.25,random_state=123)\n",
    "X_train = X_train[X_train.Class == 0]  ### only class 0 should be in X_train\n",
    "X_train = X_train.drop(['Class'],axis=1)\n",
    "y_test = X_test['Class']\n",
    "X_test = X_test.drop(['Class'],axis=1)\n",
    "X_train = X_train.values\n",
    "X_test = X_test.values"
   ]
  },
  {
   "cell_type": "code",
   "execution_count": 11,
   "metadata": {},
   "outputs": [
    {
     "data": {
      "text/plain": [
       "numpy.ndarray"
      ]
     },
     "execution_count": 11,
     "metadata": {},
     "output_type": "execute_result"
    }
   ],
   "source": [
    "type(X_train)"
   ]
  },
  {
   "cell_type": "code",
   "execution_count": 12,
   "metadata": {},
   "outputs": [
    {
     "data": {
      "text/plain": [
       "numpy.ndarray"
      ]
     },
     "execution_count": 12,
     "metadata": {},
     "output_type": "execute_result"
    }
   ],
   "source": [
    "type(X_test)"
   ]
  },
  {
   "cell_type": "code",
   "execution_count": 13,
   "metadata": {},
   "outputs": [
    {
     "data": {
      "text/plain": [
       "(213260, 29)"
      ]
     },
     "execution_count": 13,
     "metadata": {},
     "output_type": "execute_result"
    }
   ],
   "source": [
    "X_train.shape"
   ]
  },
  {
   "cell_type": "code",
   "execution_count": 14,
   "metadata": {},
   "outputs": [
    {
     "data": {
      "text/plain": [
       "(71202, 29)"
      ]
     },
     "execution_count": 14,
     "metadata": {},
     "output_type": "execute_result"
    }
   ],
   "source": [
    "X_test.shape"
   ]
  },
  {
   "cell_type": "markdown",
   "metadata": {},
   "source": [
    "#  Autoencoder uses 4 fully connected layers with 14,7,7 and 29 neurons respectively. "
   ]
  },
  {
   "cell_type": "markdown",
   "metadata": {},
   "source": [
    "# First two layers are for encoder and last two go for decoder"
   ]
  },
  {
   "cell_type": "markdown",
   "metadata": {},
   "source": [
    "# L1 regularization"
   ]
  },
  {
   "cell_type": "code",
   "execution_count": 15,
   "metadata": {},
   "outputs": [],
   "source": [
    "input_dim = X_train.shape[1]\n",
    "encoding_dim = 14 "
   ]
  },
  {
   "cell_type": "code",
   "execution_count": 16,
   "metadata": {},
   "outputs": [],
   "source": [
    "input_layer = Input(shape=(input_dim,  ))   ### this will be 29 as there are 29 features coming in as numpy array"
   ]
  },
  {
   "cell_type": "markdown",
   "metadata": {},
   "source": [
    "# Define Encoder"
   ]
  },
  {
   "cell_type": "code",
   "execution_count": 17,
   "metadata": {},
   "outputs": [],
   "source": [
    "encoder= Dense(encoding_dim, activation=\"tanh\",   \n",
    "              activity_regularizer=regularizers.l1(10e-5))(input_layer)  ### 29 going to 14 "
   ]
  },
  {
   "cell_type": "code",
   "execution_count": 18,
   "metadata": {},
   "outputs": [],
   "source": [
    "encoder = Dense(int(encoding_dim/2),activation='relu')(encoder)    ### above layer going to multiply with this"
   ]
  },
  {
   "cell_type": "markdown",
   "metadata": {},
   "source": [
    "# Define Decoder"
   ]
  },
  {
   "cell_type": "code",
   "execution_count": 19,
   "metadata": {},
   "outputs": [],
   "source": [
    "decoder = Dense(int(encoding_dim/2),activation='tanh')(encoder)\n",
    "decoder = Dense(input_dim,activation='relu')(decoder)"
   ]
  },
  {
   "cell_type": "markdown",
   "metadata": {},
   "source": [
    "# AUTOENCODER"
   ]
  },
  {
   "cell_type": "code",
   "execution_count": 20,
   "metadata": {},
   "outputs": [],
   "source": [
    "autoencoder=Model(inputs=input_layer , outputs=decoder)"
   ]
  },
  {
   "cell_type": "markdown",
   "metadata": {},
   "source": [
    "# Run autoencoder for 100 epochs with a batch size of 32"
   ]
  },
  {
   "cell_type": "code",
   "execution_count": 21,
   "metadata": {},
   "outputs": [],
   "source": [
    "nb_epoch = 80\n",
    "batch_size= 32"
   ]
  },
  {
   "cell_type": "code",
   "execution_count": 22,
   "metadata": {},
   "outputs": [],
   "source": [
    "autoencoder.compile(optimizer='adam',\n",
    "                   loss='mean_squared_error',\n",
    "                   metrics=['accuracy'])"
   ]
  },
  {
   "cell_type": "code",
   "execution_count": 23,
   "metadata": {},
   "outputs": [],
   "source": [
    "checkpointer = ModelCheckpoint(filepath=\"fraudModel.h5\",\n",
    "                                verbose=0,\n",
    "                              save_best_only=True)"
   ]
  },
  {
   "cell_type": "code",
   "execution_count": 25,
   "metadata": {},
   "outputs": [
    {
     "name": "stdout",
     "output_type": "stream",
     "text": [
      "Train on 213260 samples, validate on 71202 samples\n",
      "Epoch 1/80\n",
      "213260/213260 [==============================] - 7s 33us/step - loss: 0.8246 - acc: 0.5579 - val_loss: 0.7925 - val_acc: 0.6305\n",
      "Epoch 2/80\n",
      "213260/213260 [==============================] - 6s 30us/step - loss: 0.7471 - acc: 0.6402 - val_loss: 0.7726 - val_acc: 0.6417\n",
      "Epoch 3/80\n",
      "213260/213260 [==============================] - 7s 31us/step - loss: 0.7346 - acc: 0.6526 - val_loss: 0.7640 - val_acc: 0.6533\n",
      "Epoch 4/80\n",
      "213260/213260 [==============================] - 6s 30us/step - loss: 0.7300 - acc: 0.6596 - val_loss: 0.7614 - val_acc: 0.6577\n",
      "Epoch 5/80\n",
      "213260/213260 [==============================] - 6s 30us/step - loss: 0.7271 - acc: 0.6662 - val_loss: 0.7580 - val_acc: 0.6709\n",
      "Epoch 6/80\n",
      "213260/213260 [==============================] - 6s 30us/step - loss: 0.7255 - acc: 0.6693 - val_loss: 0.7574 - val_acc: 0.6664\n",
      "Epoch 7/80\n",
      "213260/213260 [==============================] - 6s 30us/step - loss: 0.7240 - acc: 0.6732 - val_loss: 0.7549 - val_acc: 0.6793\n",
      "Epoch 8/80\n",
      "213260/213260 [==============================] - 7s 31us/step - loss: 0.7223 - acc: 0.6755 - val_loss: 0.7526 - val_acc: 0.6793\n",
      "Epoch 9/80\n",
      "213260/213260 [==============================] - 7s 31us/step - loss: 0.7213 - acc: 0.6786 - val_loss: 0.7550 - val_acc: 0.6731\n",
      "Epoch 10/80\n",
      "213260/213260 [==============================] - 6s 30us/step - loss: 0.7199 - acc: 0.6799 - val_loss: 0.7561 - val_acc: 0.6658\n",
      "Epoch 11/80\n",
      "213260/213260 [==============================] - 6s 30us/step - loss: 0.7189 - acc: 0.6797 - val_loss: 0.7507 - val_acc: 0.6837\n",
      "Epoch 12/80\n",
      "213260/213260 [==============================] - 7s 32us/step - loss: 0.7183 - acc: 0.6793 - val_loss: 0.7549 - val_acc: 0.6716\n",
      "Epoch 13/80\n",
      "213260/213260 [==============================] - 7s 33us/step - loss: 0.7174 - acc: 0.6788 - val_loss: 0.7503 - val_acc: 0.6776\n",
      "Epoch 14/80\n",
      "213260/213260 [==============================] - 7s 31us/step - loss: 0.7175 - acc: 0.6790 - val_loss: 0.7507 - val_acc: 0.6814\n",
      "Epoch 15/80\n",
      "213260/213260 [==============================] - 7s 31us/step - loss: 0.7168 - acc: 0.6785 - val_loss: 0.7526 - val_acc: 0.6704\n",
      "Epoch 16/80\n",
      "213260/213260 [==============================] - 6s 30us/step - loss: 0.7166 - acc: 0.6788 - val_loss: 0.7490 - val_acc: 0.6764\n",
      "Epoch 17/80\n",
      "213260/213260 [==============================] - 7s 32us/step - loss: 0.7167 - acc: 0.6776 - val_loss: 0.7490 - val_acc: 0.6779\n",
      "Epoch 18/80\n",
      "213260/213260 [==============================] - 7s 31us/step - loss: 0.7165 - acc: 0.6774 - val_loss: 0.7497 - val_acc: 0.6766\n",
      "Epoch 19/80\n",
      "213260/213260 [==============================] - 7s 31us/step - loss: 0.7159 - acc: 0.6786 - val_loss: 0.7492 - val_acc: 0.6756\n",
      "Epoch 20/80\n",
      "213260/213260 [==============================] - 7s 31us/step - loss: 0.7154 - acc: 0.6783 - val_loss: 0.7480 - val_acc: 0.6785\n",
      "Epoch 21/80\n",
      "213260/213260 [==============================] - 7s 31us/step - loss: 0.7151 - acc: 0.6782 - val_loss: 0.7514 - val_acc: 0.6723\n",
      "Epoch 22/80\n",
      "213260/213260 [==============================] - 6s 30us/step - loss: 0.7146 - acc: 0.6776 - val_loss: 0.7515 - val_acc: 0.6757\n",
      "Epoch 23/80\n",
      "213260/213260 [==============================] - 7s 31us/step - loss: 0.7149 - acc: 0.6781 - val_loss: 0.7467 - val_acc: 0.6775\n",
      "Epoch 24/80\n",
      "213260/213260 [==============================] - 7s 31us/step - loss: 0.7146 - acc: 0.6787 - val_loss: 0.7476 - val_acc: 0.6723\n",
      "Epoch 25/80\n",
      "213260/213260 [==============================] - 7s 30us/step - loss: 0.7144 - acc: 0.6784 - val_loss: 0.7484 - val_acc: 0.6807\n",
      "Epoch 26/80\n",
      "213260/213260 [==============================] - 7s 31us/step - loss: 0.7143 - acc: 0.6790 - val_loss: 0.7487 - val_acc: 0.6748\n",
      "Epoch 27/80\n",
      "213260/213260 [==============================] - 6s 30us/step - loss: 0.7139 - acc: 0.6790 - val_loss: 0.7471 - val_acc: 0.6815\n",
      "Epoch 28/80\n",
      "213260/213260 [==============================] - 7s 31us/step - loss: 0.7140 - acc: 0.6794 - val_loss: 0.7460 - val_acc: 0.6813\n",
      "Epoch 29/80\n",
      "213260/213260 [==============================] - 6s 30us/step - loss: 0.7140 - acc: 0.6797 - val_loss: 0.7470 - val_acc: 0.6794\n",
      "Epoch 30/80\n",
      "213260/213260 [==============================] - 6s 30us/step - loss: 0.7135 - acc: 0.6797 - val_loss: 0.7480 - val_acc: 0.6770\n",
      "Epoch 31/80\n",
      "213260/213260 [==============================] - 7s 31us/step - loss: 0.7134 - acc: 0.6805 - val_loss: 0.7462 - val_acc: 0.6720\n",
      "Epoch 32/80\n",
      "213260/213260 [==============================] - 6s 30us/step - loss: 0.7133 - acc: 0.6805 - val_loss: 0.7454 - val_acc: 0.6775\n",
      "Epoch 33/80\n",
      "213260/213260 [==============================] - 7s 31us/step - loss: 0.7134 - acc: 0.6794 - val_loss: 0.7451 - val_acc: 0.6759\n",
      "Epoch 34/80\n",
      "213260/213260 [==============================] - 7s 31us/step - loss: 0.7134 - acc: 0.6809 - val_loss: 0.7464 - val_acc: 0.6827\n",
      "Epoch 35/80\n",
      "213260/213260 [==============================] - 7s 31us/step - loss: 0.7132 - acc: 0.6804 - val_loss: 0.7523 - val_acc: 0.6742\n",
      "Epoch 36/80\n",
      "213260/213260 [==============================] - 7s 32us/step - loss: 0.7132 - acc: 0.6814 - val_loss: 0.7457 - val_acc: 0.6810\n",
      "Epoch 37/80\n",
      "213260/213260 [==============================] - 7s 31us/step - loss: 0.7130 - acc: 0.6809 - val_loss: 0.7446 - val_acc: 0.6786\n",
      "Epoch 38/80\n",
      "213260/213260 [==============================] - 7s 32us/step - loss: 0.7127 - acc: 0.6812 - val_loss: 0.7456 - val_acc: 0.6797\n",
      "Epoch 39/80\n",
      "213260/213260 [==============================] - 7s 31us/step - loss: 0.7127 - acc: 0.6806 - val_loss: 0.7460 - val_acc: 0.6824\n",
      "Epoch 40/80\n",
      "213260/213260 [==============================] - 6s 30us/step - loss: 0.7132 - acc: 0.6811 - val_loss: 0.7457 - val_acc: 0.6852\n",
      "Epoch 41/80\n",
      "213260/213260 [==============================] - 6s 30us/step - loss: 0.7131 - acc: 0.6813 - val_loss: 0.7471 - val_acc: 0.6779\n",
      "Epoch 42/80\n",
      "213260/213260 [==============================] - 6s 30us/step - loss: 0.7128 - acc: 0.6806 - val_loss: 0.7500 - val_acc: 0.6847\n",
      "Epoch 43/80\n",
      "213260/213260 [==============================] - 7s 31us/step - loss: 0.7127 - acc: 0.6809 - val_loss: 0.7486 - val_acc: 0.6737\n",
      "Epoch 44/80\n",
      "213260/213260 [==============================] - 7s 31us/step - loss: 0.7126 - acc: 0.6815 - val_loss: 0.7449 - val_acc: 0.6816\n",
      "Epoch 45/80\n",
      "213260/213260 [==============================] - 7s 31us/step - loss: 0.7124 - acc: 0.6817 - val_loss: 0.7451 - val_acc: 0.6805\n",
      "Epoch 46/80\n",
      "213260/213260 [==============================] - 7s 31us/step - loss: 0.7124 - acc: 0.6826 - val_loss: 0.7449 - val_acc: 0.6859\n",
      "Epoch 47/80\n",
      "213260/213260 [==============================] - 7s 31us/step - loss: 0.7128 - acc: 0.6817 - val_loss: 0.7443 - val_acc: 0.6814\n",
      "Epoch 48/80\n",
      "213260/213260 [==============================] - 7s 31us/step - loss: 0.7124 - acc: 0.6807 - val_loss: 0.7450 - val_acc: 0.6778\n",
      "Epoch 49/80\n",
      "213260/213260 [==============================] - 7s 32us/step - loss: 0.7124 - acc: 0.6818 - val_loss: 0.7475 - val_acc: 0.6762\n",
      "Epoch 50/80\n",
      "213260/213260 [==============================] - 7s 31us/step - loss: 0.7123 - acc: 0.6812 - val_loss: 0.7467 - val_acc: 0.6838\n",
      "Epoch 51/80\n",
      "213260/213260 [==============================] - 7s 31us/step - loss: 0.7127 - acc: 0.6815 - val_loss: 0.7443 - val_acc: 0.6803\n",
      "Epoch 52/80\n",
      "213260/213260 [==============================] - 7s 31us/step - loss: 0.7124 - acc: 0.6829 - val_loss: 0.7457 - val_acc: 0.6866\n",
      "Epoch 53/80\n",
      "213260/213260 [==============================] - 7s 32us/step - loss: 0.7126 - acc: 0.6816 - val_loss: 0.7444 - val_acc: 0.6803\n",
      "Epoch 54/80\n",
      "213260/213260 [==============================] - 7s 32us/step - loss: 0.7124 - acc: 0.6822 - val_loss: 0.7443 - val_acc: 0.6865\n",
      "Epoch 55/80\n",
      "213260/213260 [==============================] - 7s 31us/step - loss: 0.7123 - acc: 0.6820 - val_loss: 0.7495 - val_acc: 0.6768\n",
      "Epoch 56/80\n",
      "213260/213260 [==============================] - 7s 31us/step - loss: 0.7125 - acc: 0.6813 - val_loss: 0.7456 - val_acc: 0.6802\n",
      "Epoch 57/80\n",
      "213260/213260 [==============================] - 7s 32us/step - loss: 0.7125 - acc: 0.6820 - val_loss: 0.7439 - val_acc: 0.6822\n",
      "Epoch 58/80\n",
      "213260/213260 [==============================] - 7s 31us/step - loss: 0.7128 - acc: 0.6822 - val_loss: 0.7440 - val_acc: 0.6833\n",
      "Epoch 59/80\n"
     ]
    },
    {
     "name": "stdout",
     "output_type": "stream",
     "text": [
      "213260/213260 [==============================] - 6s 29us/step - loss: 0.7123 - acc: 0.6819 - val_loss: 0.7451 - val_acc: 0.6799\n",
      "Epoch 60/80\n",
      "213260/213260 [==============================] - 6s 29us/step - loss: 0.7121 - acc: 0.6817 - val_loss: 0.7444 - val_acc: 0.6832\n",
      "Epoch 61/80\n",
      "213260/213260 [==============================] - 6s 29us/step - loss: 0.7123 - acc: 0.6826 - val_loss: 0.7438 - val_acc: 0.6854\n",
      "Epoch 62/80\n",
      "213260/213260 [==============================] - 6s 29us/step - loss: 0.7124 - acc: 0.6817 - val_loss: 0.7444 - val_acc: 0.6830\n",
      "Epoch 63/80\n",
      "213260/213260 [==============================] - 6s 29us/step - loss: 0.7123 - acc: 0.6820 - val_loss: 0.7469 - val_acc: 0.6812\n",
      "Epoch 64/80\n",
      "213260/213260 [==============================] - 6s 29us/step - loss: 0.7125 - acc: 0.6827 - val_loss: 0.7456 - val_acc: 0.6878\n",
      "Epoch 65/80\n",
      "213260/213260 [==============================] - 6s 30us/step - loss: 0.7122 - acc: 0.6829 - val_loss: 0.7465 - val_acc: 0.6786\n",
      "Epoch 66/80\n",
      "213260/213260 [==============================] - 7s 31us/step - loss: 0.7123 - acc: 0.6823 - val_loss: 0.7463 - val_acc: 0.6710\n",
      "Epoch 67/80\n",
      "213260/213260 [==============================] - 6s 30us/step - loss: 0.7120 - acc: 0.6830 - val_loss: 0.7442 - val_acc: 0.6826\n",
      "Epoch 68/80\n",
      "213260/213260 [==============================] - 6s 30us/step - loss: 0.7122 - acc: 0.6826 - val_loss: 0.7440 - val_acc: 0.6863\n",
      "Epoch 69/80\n",
      "213260/213260 [==============================] - 6s 30us/step - loss: 0.7124 - acc: 0.6822 - val_loss: 0.7439 - val_acc: 0.6815\n",
      "Epoch 70/80\n",
      "213260/213260 [==============================] - 6s 30us/step - loss: 0.7121 - acc: 0.6826 - val_loss: 0.7448 - val_acc: 0.6754\n",
      "Epoch 71/80\n",
      "213260/213260 [==============================] - 6s 30us/step - loss: 0.7119 - acc: 0.6828 - val_loss: 0.7458 - val_acc: 0.6825\n",
      "Epoch 72/80\n",
      "213260/213260 [==============================] - 6s 30us/step - loss: 0.7124 - acc: 0.6819 - val_loss: 0.7457 - val_acc: 0.6774\n",
      "Epoch 73/80\n",
      "213260/213260 [==============================] - 6s 30us/step - loss: 0.7119 - acc: 0.6822 - val_loss: 0.7446 - val_acc: 0.6805\n",
      "Epoch 74/80\n",
      "213260/213260 [==============================] - 6s 30us/step - loss: 0.7125 - acc: 0.6827 - val_loss: 0.7436 - val_acc: 0.6828\n",
      "Epoch 75/80\n",
      "213260/213260 [==============================] - 6s 30us/step - loss: 0.7122 - acc: 0.6826 - val_loss: 0.7455 - val_acc: 0.6770\n",
      "Epoch 76/80\n",
      "213260/213260 [==============================] - 7s 32us/step - loss: 0.7120 - acc: 0.6828 - val_loss: 0.7437 - val_acc: 0.6817\n",
      "Epoch 77/80\n",
      "213260/213260 [==============================] - 7s 31us/step - loss: 0.7120 - acc: 0.6834 - val_loss: 0.7439 - val_acc: 0.6800\n",
      "Epoch 78/80\n",
      "213260/213260 [==============================] - 6s 30us/step - loss: 0.7121 - acc: 0.6833 - val_loss: 0.7470 - val_acc: 0.6833\n",
      "Epoch 79/80\n",
      "213260/213260 [==============================] - 6s 30us/step - loss: 0.7119 - acc: 0.6821 - val_loss: 0.7441 - val_acc: 0.6848\n",
      "Epoch 80/80\n",
      "213260/213260 [==============================] - 6s 30us/step - loss: 0.7121 - acc: 0.6813 - val_loss: 0.7438 - val_acc: 0.6852\n"
     ]
    },
    {
     "data": {
      "text/plain": [
       "<keras.callbacks.History at 0x1f2c200bf28>"
      ]
     },
     "execution_count": 25,
     "metadata": {},
     "output_type": "execute_result"
    }
   ],
   "source": [
    "autoencoder.fit(X_train, X_train,\n",
    "               epochs=nb_epoch,\n",
    "               batch_size= batch_size,\n",
    "               validation_data=(X_test, X_test),\n",
    "               verbose=1,\n",
    "               callbacks= [checkpointer])"
   ]
  },
  {
   "cell_type": "markdown",
   "metadata": {},
   "source": [
    "# Predict on unseen data"
   ]
  },
  {
   "cell_type": "code",
   "execution_count": 27,
   "metadata": {},
   "outputs": [
    {
     "data": {
      "text/html": [
       "<div>\n",
       "<style scoped>\n",
       "    .dataframe tbody tr th:only-of-type {\n",
       "        vertical-align: middle;\n",
       "    }\n",
       "\n",
       "    .dataframe tbody tr th {\n",
       "        vertical-align: top;\n",
       "    }\n",
       "\n",
       "    .dataframe thead th {\n",
       "        text-align: right;\n",
       "    }\n",
       "</style>\n",
       "<table border=\"1\" class=\"dataframe\">\n",
       "  <thead>\n",
       "    <tr style=\"text-align: right;\">\n",
       "      <th></th>\n",
       "      <th>reconstruction_error</th>\n",
       "      <th>true_class</th>\n",
       "    </tr>\n",
       "  </thead>\n",
       "  <tbody>\n",
       "    <tr>\n",
       "      <td>count</td>\n",
       "      <td>71202.000000</td>\n",
       "      <td>71202.000000</td>\n",
       "    </tr>\n",
       "    <tr>\n",
       "      <td>mean</td>\n",
       "      <td>0.735181</td>\n",
       "      <td>0.002065</td>\n",
       "    </tr>\n",
       "    <tr>\n",
       "      <td>std</td>\n",
       "      <td>3.648938</td>\n",
       "      <td>0.045391</td>\n",
       "    </tr>\n",
       "    <tr>\n",
       "      <td>min</td>\n",
       "      <td>0.051293</td>\n",
       "      <td>0.000000</td>\n",
       "    </tr>\n",
       "    <tr>\n",
       "      <td>25%</td>\n",
       "      <td>0.243922</td>\n",
       "      <td>0.000000</td>\n",
       "    </tr>\n",
       "    <tr>\n",
       "      <td>50%</td>\n",
       "      <td>0.388637</td>\n",
       "      <td>0.000000</td>\n",
       "    </tr>\n",
       "    <tr>\n",
       "      <td>75%</td>\n",
       "      <td>0.614699</td>\n",
       "      <td>0.000000</td>\n",
       "    </tr>\n",
       "    <tr>\n",
       "      <td>max</td>\n",
       "      <td>409.714136</td>\n",
       "      <td>1.000000</td>\n",
       "    </tr>\n",
       "  </tbody>\n",
       "</table>\n",
       "</div>"
      ],
      "text/plain": [
       "       reconstruction_error    true_class\n",
       "count          71202.000000  71202.000000\n",
       "mean               0.735181      0.002065\n",
       "std                3.648938      0.045391\n",
       "min                0.051293      0.000000\n",
       "25%                0.243922      0.000000\n",
       "50%                0.388637      0.000000\n",
       "75%                0.614699      0.000000\n",
       "max              409.714136      1.000000"
      ]
     },
     "execution_count": 27,
     "metadata": {},
     "output_type": "execute_result"
    }
   ],
   "source": [
    "predictions = autoencoder.predict(X_test)\n",
    "mse= np.mean(np.power(X_test - predictions,2), axis=1)\n",
    "error_df = pd.DataFrame({'reconstruction_error':mse,\n",
    "                        'true_class':y_test})\n",
    "error_df.describe()"
   ]
  },
  {
   "cell_type": "code",
   "execution_count": 28,
   "metadata": {},
   "outputs": [],
   "source": [
    "threshold = 2.9"
   ]
  },
  {
   "cell_type": "code",
   "execution_count": 32,
   "metadata": {},
   "outputs": [
    {
     "data": {
      "image/png": "[encoded data removed]",
      "text/plain": [
       "<Figure size 432x288 with 1 Axes>"
      ]
     },
     "metadata": {
      "needs_background": "light"
     },
     "output_type": "display_data"
    }
   ],
   "source": [
    "groups = error_df.groupby('true_class')\n",
    "fig, ax = plt.subplots()\n",
    "\n",
    "for name, group in groups:\n",
    "    ax.plot(group.index,group.reconstruction_error, marker='o',\n",
    "           ms=3.5 ,\n",
    "           linestyle='',\n",
    "           label=\"Fraud\" if name == 1 else \"Normal\")\n",
    "ax.hlines(threshold, ax.get_xlim()[0], ax.get_xlim()[1] , colors=\"r\",\n",
    "         zorder=100,label=\"Threshold\")\n",
    "ax.legend()\n",
    "plt.title(\"Reconstruction error for different classes\")\n",
    "plt.ylabel(\"Reconstructiom error\")\n",
    "plt.xlabel(\"Data point index\")\n",
    "plt.show();"
   ]
  },
  {
   "cell_type": "code",
   "execution_count": null,
   "metadata": {},
   "outputs": [],
   "source": []
  }
 ],
 "metadata": {
  "kernelspec": {
   "display_name": "Python 3",
   "language": "python",
   "name": "python3"
  },
  "language_info": {
   "codemirror_mode": {
    "name": "ipython",
    "version": 3
   },
   "file_extension": ".py",
   "mimetype": "text/x-python",
   "name": "python",
   "nbconvert_exporter": "python",
   "pygments_lexer": "ipython3",
   "version": "3.6.8"
  }
 },
 "nbformat": 4,
 "nbformat_minor": 2
}
