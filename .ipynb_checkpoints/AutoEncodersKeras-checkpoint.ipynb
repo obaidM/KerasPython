{
 "cells": [
  {
   "cell_type": "markdown",
   "metadata": {},
   "source": [
    "# using simple KERAS to do unsupervised learning with AutoEncoders"
   ]
  },
  {
   "cell_type": "code",
   "execution_count": 1,
   "metadata": {},
   "outputs": [
    {
     "name": "stderr",
     "output_type": "stream",
     "text": [
      "Using TensorFlow backend.\n",
      "C:\\Users\\obaid\\Anaconda3\\lib\\site-packages\\tensorflow\\python\\framework\\dtypes.py:523: FutureWarning: Passing (type, 1) or '1type' as a synonym of type is deprecated; in a future version of numpy, it will be understood as (type, (1,)) / '(1,)type'.\n",
      "  _np_qint8 = np.dtype([(\"qint8\", np.int8, 1)])\n",
      "C:\\Users\\obaid\\Anaconda3\\lib\\site-packages\\tensorflow\\python\\framework\\dtypes.py:524: FutureWarning: Passing (type, 1) or '1type' as a synonym of type is deprecated; in a future version of numpy, it will be understood as (type, (1,)) / '(1,)type'.\n",
      "  _np_quint8 = np.dtype([(\"quint8\", np.uint8, 1)])\n",
      "C:\\Users\\obaid\\Anaconda3\\lib\\site-packages\\tensorflow\\python\\framework\\dtypes.py:525: FutureWarning: Passing (type, 1) or '1type' as a synonym of type is deprecated; in a future version of numpy, it will be understood as (type, (1,)) / '(1,)type'.\n",
      "  _np_qint16 = np.dtype([(\"qint16\", np.int16, 1)])\n",
      "C:\\Users\\obaid\\Anaconda3\\lib\\site-packages\\tensorflow\\python\\framework\\dtypes.py:526: FutureWarning: Passing (type, 1) or '1type' as a synonym of type is deprecated; in a future version of numpy, it will be understood as (type, (1,)) / '(1,)type'.\n",
      "  _np_quint16 = np.dtype([(\"quint16\", np.uint16, 1)])\n",
      "C:\\Users\\obaid\\Anaconda3\\lib\\site-packages\\tensorflow\\python\\framework\\dtypes.py:527: FutureWarning: Passing (type, 1) or '1type' as a synonym of type is deprecated; in a future version of numpy, it will be understood as (type, (1,)) / '(1,)type'.\n",
      "  _np_qint32 = np.dtype([(\"qint32\", np.int32, 1)])\n",
      "C:\\Users\\obaid\\Anaconda3\\lib\\site-packages\\tensorflow\\python\\framework\\dtypes.py:532: FutureWarning: Passing (type, 1) or '1type' as a synonym of type is deprecated; in a future version of numpy, it will be understood as (type, (1,)) / '(1,)type'.\n",
      "  np_resource = np.dtype([(\"resource\", np.ubyte, 1)])\n"
     ]
    }
   ],
   "source": [
    "from keras.layers import Input,Dense\n",
    "from keras.models import Model"
   ]
  },
  {
   "cell_type": "code",
   "execution_count": 2,
   "metadata": {},
   "outputs": [],
   "source": [
    "### we will use MNIST data set. Each image is 784 vector length. \n",
    "## it will be compressed with factor of 24.5 \n",
    "## that makes our input dimension to be 32\n",
    "encoding_dim = 32"
   ]
  },
  {
   "cell_type": "code",
   "execution_count": 3,
   "metadata": {},
   "outputs": [],
   "source": [
    "### our input image \n",
    "input_img = Input(shape=(784,))\n",
    "### encoded is the encoded representation of the input\n",
    "\n",
    "encoded = Dense(encoding_dim,activation='relu')(input_img)\n",
    "## decode \n",
    "decoded = Dense(784,activation='sigmoid')(encoded)"
   ]
  },
  {
   "cell_type": "code",
   "execution_count": 4,
   "metadata": {},
   "outputs": [],
   "source": [
    "##this model maps an input to its reconstruction\n",
    "autoencoder = Model(input_img, decoded)"
   ]
  },
  {
   "cell_type": "markdown",
   "metadata": {},
   "source": [
    "SIMPLE ENCODER MODEL"
   ]
  },
  {
   "cell_type": "code",
   "execution_count": 5,
   "metadata": {},
   "outputs": [],
   "source": [
    "## this model maps an input to its reconstruction\n",
    "encoder= Model(input_img,encoded)"
   ]
  },
  {
   "cell_type": "markdown",
   "metadata": {},
   "source": [
    "SIMPLE DECODER MODEL"
   ]
  },
  {
   "cell_type": "code",
   "execution_count": 6,
   "metadata": {},
   "outputs": [],
   "source": [
    "### create a splaceholder for an encoded (32-dim) input\n",
    "encoded_input = Input(shape=(encoding_dim,))\n",
    "### retrieve the last layer of the autoencoder model\n",
    "decoder_layer = autoencoder.layers[-1] ### last layer\n",
    "### create the decodermodel\n",
    "decoder = Model(encoded_input,decoder_layer(encoded_input))"
   ]
  },
  {
   "cell_type": "code",
   "execution_count": 7,
   "metadata": {},
   "outputs": [],
   "source": [
    "autoencoder.compile(optimizer='adadelta',loss='binary_crossentropy')"
   ]
  },
  {
   "cell_type": "markdown",
   "metadata": {},
   "source": [
    "# Read in Data"
   ]
  },
  {
   "cell_type": "code",
   "execution_count": 8,
   "metadata": {},
   "outputs": [],
   "source": [
    "from keras.datasets import mnist\n",
    "import numpy as np \n",
    "(x_train, _),(x_test, _)= mnist.load_data()"
   ]
  },
  {
   "cell_type": "code",
   "execution_count": 11,
   "metadata": {},
   "outputs": [
    {
     "name": "stdout",
     "output_type": "stream",
     "text": [
      "(60000, 784)\n",
      "(10000, 784)\n"
     ]
    }
   ],
   "source": [
    "x_train = x_train.astype('float32') /255.\n",
    "x_test = x_test.astype('float32') / 255.\n",
    "x_train = x_train.reshape((len(x_train),np.prod(x_train.shape[1:])))\n",
    "x_test = x_test.reshape((len(x_test),np.prod(x_test.shape[1:])))\n",
    "print(x_train.shape)\n",
    "print(x_test.shape)"
   ]
  },
  {
   "cell_type": "markdown",
   "metadata": {},
   "source": [
    "# Fit an autoencoder model"
   ]
  },
  {
   "cell_type": "code",
   "execution_count": 12,
   "metadata": {},
   "outputs": [
    {
     "name": "stdout",
     "output_type": "stream",
     "text": [
      "Train on 60000 samples, validate on 10000 samples\n",
      "Epoch 1/50\n",
      "60000/60000 [==============================] - 4s 67us/step - loss: 0.6431 - val_loss: 0.5252\n",
      "Epoch 2/50\n",
      "60000/60000 [==============================] - 3s 47us/step - loss: 0.2042 - val_loss: 0.0423\n",
      "Epoch 3/50\n",
      "60000/60000 [==============================] - 3s 51us/step - loss: 0.0228 - val_loss: 0.0127\n",
      "Epoch 4/50\n",
      "60000/60000 [==============================] - 3s 50us/step - loss: 0.0091 - val_loss: 0.0066\n",
      "Epoch 5/50\n",
      "60000/60000 [==============================] - 3s 46us/step - loss: 0.0053 - val_loss: 0.0043\n",
      "Epoch 6/50\n",
      "60000/60000 [==============================] - 3s 46us/step - loss: 0.0036 - val_loss: 0.0031\n",
      "Epoch 7/50\n",
      "60000/60000 [==============================] - 3s 46us/step - loss: 0.0027 - val_loss: 0.0024\n",
      "Epoch 8/50\n",
      "60000/60000 [==============================] - 3s 51us/step - loss: 0.0021 - val_loss: 0.0019\n",
      "Epoch 9/50\n",
      "60000/60000 [==============================] - 3s 48us/step - loss: 0.0018 - val_loss: 0.0016\n",
      "Epoch 10/50\n",
      "60000/60000 [==============================] - 3s 47us/step - loss: 0.0015 - val_loss: 0.0014\n",
      "Epoch 11/50\n",
      "60000/60000 [==============================] - 3s 48us/step - loss: 0.0013 - val_loss: 0.0012\n",
      "Epoch 12/50\n",
      "60000/60000 [==============================] - 3s 50us/step - loss: 0.0011 - val_loss: 0.0011\n",
      "Epoch 13/50\n",
      "60000/60000 [==============================] - 3s 50us/step - loss: 0.0010 - val_loss: 9.5073e-04\n",
      "Epoch 14/50\n",
      "60000/60000 [==============================] - 3s 47us/step - loss: 9.0402e-04 - val_loss: 8.5997e-04\n",
      "Epoch 15/50\n",
      "60000/60000 [==============================] - 3s 46us/step - loss: 8.2112e-04 - val_loss: 7.8435e-04\n",
      "Epoch 16/50\n",
      "60000/60000 [==============================] - 3s 46us/step - loss: 7.5155e-04 - val_loss: 7.2046e-04\n",
      "Epoch 17/50\n",
      "60000/60000 [==============================] - 3s 48us/step - loss: 6.9243e-04 - val_loss: 6.6582e-04\n",
      "Epoch 18/50\n",
      "60000/60000 [==============================] - 3s 46us/step - loss: 6.4160e-04 - val_loss: 6.1860e-04\n",
      "Epoch 19/50\n",
      "60000/60000 [==============================] - 3s 45us/step - loss: 5.9748e-04 - val_loss: 5.7742e-04\n",
      "Epoch 20/50\n",
      "60000/60000 [==============================] - 3s 49us/step - loss: 5.5886e-04 - val_loss: 5.4123e-04\n",
      "Epoch 21/50\n",
      "60000/60000 [==============================] - 3s 51us/step - loss: 5.2478e-04 - val_loss: 5.0918e-04\n",
      "Epoch 22/50\n",
      "60000/60000 [==============================] - 3s 50us/step - loss: 4.9451e-04 - val_loss: 4.8062e-04\n",
      "Epoch 23/50\n",
      "60000/60000 [==============================] - 3s 46us/step - loss: 4.6746e-04 - val_loss: 4.5502e-04\n",
      "Epoch 24/50\n",
      "60000/60000 [==============================] - 3s 45us/step - loss: 4.4315e-04 - val_loss: 4.3196e-04\n",
      "Epoch 25/50\n",
      "60000/60000 [==============================] - 3s 48us/step - loss: 4.2120e-04 - val_loss: 4.1108e-04\n",
      "Epoch 26/50\n",
      "60000/60000 [==============================] - 3s 48us/step - loss: 4.0128e-04 - val_loss: 3.9210e-04\n",
      "Epoch 27/50\n",
      "60000/60000 [==============================] - 3s 47us/step - loss: 3.8314e-04 - val_loss: 3.7477e-04\n",
      "Epoch 28/50\n",
      "60000/60000 [==============================] - 3s 49us/step - loss: 3.6655e-04 - val_loss: 3.5890e-04\n",
      "Epoch 29/50\n",
      "60000/60000 [==============================] - 3s 49us/step - loss: 3.5132e-04 - val_loss: 3.4430e-04\n",
      "Epoch 30/50\n",
      "60000/60000 [==============================] - 3s 47us/step - loss: 3.3730e-04 - val_loss: 3.3085e-04\n",
      "Epoch 31/50\n",
      "60000/60000 [==============================] - 3s 49us/step - loss: 3.2436e-04 - val_loss: 3.1840e-04\n",
      "Epoch 32/50\n",
      "60000/60000 [==============================] - 3s 45us/step - loss: 3.1237e-04 - val_loss: 3.0686e-04\n",
      "Epoch 33/50\n",
      "60000/60000 [==============================] - 3s 49us/step - loss: 3.0123e-04 - val_loss: 2.9613e-04\n",
      "Epoch 34/50\n",
      "60000/60000 [==============================] - 3s 48us/step - loss: 2.9087e-04 - val_loss: 2.8613e-04\n",
      "Epoch 35/50\n",
      "60000/60000 [==============================] - 3s 46us/step - loss: 2.8121e-04 - val_loss: 2.7679e-04\n",
      "Epoch 36/50\n",
      "60000/60000 [==============================] - 3s 49us/step - loss: 2.7217e-04 - val_loss: 2.6805e-04\n",
      "Epoch 37/50\n",
      "60000/60000 [==============================] - 3s 44us/step - loss: 2.6370e-04 - val_loss: 2.5986e-04\n",
      "Epoch 38/50\n",
      "60000/60000 [==============================] - 3s 44us/step - loss: 2.5576e-04 - val_loss: 2.5216e-04\n",
      "Epoch 39/50\n",
      "60000/60000 [==============================] - 3s 44us/step - loss: 2.4829e-04 - val_loss: 2.4491e-04\n",
      "Epoch 40/50\n",
      "60000/60000 [==============================] - 3s 44us/step - loss: 2.4125e-04 - val_loss: 2.3808e-04\n",
      "Epoch 41/50\n",
      "60000/60000 [==============================] - 3s 44us/step - loss: 2.3461e-04 - val_loss: 2.3164e-04\n",
      "Epoch 42/50\n",
      "60000/60000 [==============================] - 3s 44us/step - loss: 2.2834e-04 - val_loss: 2.2554e-04\n",
      "Epoch 43/50\n",
      "60000/60000 [==============================] - 3s 47us/step - loss: 2.2241e-04 - val_loss: 2.1977e-04\n",
      "Epoch 44/50\n",
      "60000/60000 [==============================] - 3s 46us/step - loss: 2.1678e-04 - val_loss: 2.1430e-04\n",
      "Epoch 45/50\n",
      "60000/60000 [==============================] - 3s 45us/step - loss: 2.1145e-04 - val_loss: 2.0910e-04\n",
      "Epoch 46/50\n",
      "60000/60000 [==============================] - 3s 45us/step - loss: 2.0638e-04 - val_loss: 2.0416e-04\n",
      "Epoch 47/50\n",
      "60000/60000 [==============================] - 3s 46us/step - loss: 2.0156e-04 - val_loss: 1.9946e-04\n",
      "Epoch 48/50\n",
      "60000/60000 [==============================] - 3s 46us/step - loss: 1.9698e-04 - val_loss: 1.9499e-04\n",
      "Epoch 49/50\n",
      "60000/60000 [==============================] - 3s 46us/step - loss: 1.9260e-04 - val_loss: 1.9072e-04\n",
      "Epoch 50/50\n",
      "60000/60000 [==============================] - 3s 46us/step - loss: 1.8843e-04 - val_loss: 1.8664e-04\n"
     ]
    },
    {
     "data": {
      "text/plain": [
       "<keras.callbacks.History at 0x2a4ad570358>"
      ]
     },
     "execution_count": 12,
     "metadata": {},
     "output_type": "execute_result"
    }
   ],
   "source": [
    "autoencoder.fit(x_train,x_train,  ## notice that there is no y -train as x-train is the y_train\n",
    "               epochs=50,\n",
    "               batch_size=256,\n",
    "               shuffle=True,\n",
    "               validation_data=(x_test,x_test))  "
   ]
  },
  {
   "cell_type": "code",
   "execution_count": 13,
   "metadata": {},
   "outputs": [],
   "source": [
    "### encode and decode some digits\n",
    "## note that we take them from the test set\n",
    "\n",
    "encoded_imgs=encoder.predict(x_test)\n",
    "decoded_imgs = decoder.predict(encoded_imgs)"
   ]
  },
  {
   "cell_type": "markdown",
   "metadata": {},
   "source": [
    "# Plot images"
   ]
  },
  {
   "cell_type": "code",
   "execution_count": 14,
   "metadata": {},
   "outputs": [],
   "source": [
    "import matplotlib.pyplot as plt"
   ]
  },
  {
   "cell_type": "code",
   "execution_count": 17,
   "metadata": {},
   "outputs": [
    {
     "data": {
      "image/png": "[encoded data removed]",
      "text/plain": [
       "<Figure size 1440x288 with 20 Axes>"
      ]
     },
     "metadata": {
      "needs_background": "light"
     },
     "output_type": "display_data"
    }
   ],
   "source": [
    "n = 10  ## how many digits we will display\n",
    "plt.figure(figsize=(20,4))\n",
    "for i in range(n):\n",
    "    # display original\n",
    "    ax = plt.subplot(2,n,i+1)\n",
    "    plt.imshow(x_test[i].reshape(28,28))\n",
    "    plt.gray()\n",
    "    ax.get_xaxis().set_visible(False)\n",
    "    ax.get_yaxis().set_visible(False)\n",
    "\n",
    "    # display the constructed images\n",
    "    ax = plt.subplot(2,n,i+1+n)\n",
    "    plt.imshow(decoded_imgs[i].reshape(28,28))\n",
    "    plt.gray()\n",
    "    ax.get_xaxis().set_visible(False)\n",
    "    ax.get_yaxis().set_visible(False)\n",
    "plt.show()"
   ]
  },
  {
   "cell_type": "code",
   "execution_count": null,
   "metadata": {},
   "outputs": [],
   "source": []
  }
 ],
 "metadata": {
  "kernelspec": {
   "display_name": "Python 3",
   "language": "python",
   "name": "python3"
  },
  "language_info": {
   "codemirror_mode": {
    "name": "ipython",
    "version": 3
   },
   "file_extension": ".py",
   "mimetype": "text/x-python",
   "name": "python",
   "nbconvert_exporter": "python",
   "pygments_lexer": "ipython3",
   "version": "3.6.8"
  }
 },
 "nbformat": 4,
 "nbformat_minor": 2
}
