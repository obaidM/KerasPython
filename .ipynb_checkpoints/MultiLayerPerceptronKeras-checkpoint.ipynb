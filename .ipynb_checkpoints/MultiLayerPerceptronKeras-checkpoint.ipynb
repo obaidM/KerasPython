{
 "cells": [
  {
   "cell_type": "markdown",
   "metadata": {},
   "source": [
    "# MLP with Keras\n"
   ]
  },
  {
   "cell_type": "code",
   "execution_count": 2,
   "metadata": {},
   "outputs": [
    {
     "name": "stderr",
     "output_type": "stream",
     "text": [
      "Using TensorFlow backend.\n",
      "C:\\Users\\obaid\\Anaconda3\\lib\\site-packages\\tensorflow\\python\\framework\\dtypes.py:523: FutureWarning: Passing (type, 1) or '1type' as a synonym of type is deprecated; in a future version of numpy, it will be understood as (type, (1,)) / '(1,)type'.\n",
      "  _np_qint8 = np.dtype([(\"qint8\", np.int8, 1)])\n",
      "C:\\Users\\obaid\\Anaconda3\\lib\\site-packages\\tensorflow\\python\\framework\\dtypes.py:524: FutureWarning: Passing (type, 1) or '1type' as a synonym of type is deprecated; in a future version of numpy, it will be understood as (type, (1,)) / '(1,)type'.\n",
      "  _np_quint8 = np.dtype([(\"quint8\", np.uint8, 1)])\n",
      "C:\\Users\\obaid\\Anaconda3\\lib\\site-packages\\tensorflow\\python\\framework\\dtypes.py:525: FutureWarning: Passing (type, 1) or '1type' as a synonym of type is deprecated; in a future version of numpy, it will be understood as (type, (1,)) / '(1,)type'.\n",
      "  _np_qint16 = np.dtype([(\"qint16\", np.int16, 1)])\n",
      "C:\\Users\\obaid\\Anaconda3\\lib\\site-packages\\tensorflow\\python\\framework\\dtypes.py:526: FutureWarning: Passing (type, 1) or '1type' as a synonym of type is deprecated; in a future version of numpy, it will be understood as (type, (1,)) / '(1,)type'.\n",
      "  _np_quint16 = np.dtype([(\"quint16\", np.uint16, 1)])\n",
      "C:\\Users\\obaid\\Anaconda3\\lib\\site-packages\\tensorflow\\python\\framework\\dtypes.py:527: FutureWarning: Passing (type, 1) or '1type' as a synonym of type is deprecated; in a future version of numpy, it will be understood as (type, (1,)) / '(1,)type'.\n",
      "  _np_qint32 = np.dtype([(\"qint32\", np.int32, 1)])\n",
      "C:\\Users\\obaid\\Anaconda3\\lib\\site-packages\\tensorflow\\python\\framework\\dtypes.py:532: FutureWarning: Passing (type, 1) or '1type' as a synonym of type is deprecated; in a future version of numpy, it will be understood as (type, (1,)) / '(1,)type'.\n",
      "  np_resource = np.dtype([(\"resource\", np.ubyte, 1)])\n"
     ]
    }
   ],
   "source": [
    "from keras.datasets import mnist\n",
    "import matplotlib.pyplot as plt"
   ]
  },
  {
   "cell_type": "code",
   "execution_count": 14,
   "metadata": {},
   "outputs": [],
   "source": [
    "import numpy as np\n",
    "from keras.models import Sequential\n",
    "from keras.layers import Dense\n",
    "from keras.layers import Dropout\n",
    "from keras.utils import np_utils"
   ]
  },
  {
   "cell_type": "code",
   "execution_count": 15,
   "metadata": {},
   "outputs": [],
   "source": [
    "## load the the MNIST dataset\n",
    "(X_train, y_train),(X_test,y_test) = mnist.load_data()"
   ]
  },
  {
   "cell_type": "code",
   "execution_count": 16,
   "metadata": {},
   "outputs": [
    {
     "name": "stdout",
     "output_type": "stream",
     "text": [
      "784\n"
     ]
    }
   ],
   "source": [
    "### flatten the 28*28 images which is 784\n",
    "\n",
    "num_pixels = X_train.shape[1] * X_train.shape[2]  ## should give 784\n",
    "print(num_pixels)\n",
    "X_train = X_train.reshape( X_train.shape[0],num_pixels).astype('float32')  \n",
    "X_test = X_test.reshape( X_test.shape[0],num_pixels).astype('float32')  "
   ]
  },
  {
   "cell_type": "code",
   "execution_count": 17,
   "metadata": {},
   "outputs": [],
   "source": [
    "# normalize the data set inputs/predictors so that values are form 0-1\n",
    "\n",
    "X_train = X_train /255\n",
    "X_test = X_test/255"
   ]
  },
  {
   "cell_type": "markdown",
   "metadata": {},
   "source": [
    "# One hot encode the output"
   ]
  },
  {
   "cell_type": "code",
   "execution_count": 18,
   "metadata": {},
   "outputs": [],
   "source": [
    "y_train = np_utils.to_categorical(y_train)\n",
    "y_test = np_utils.to_categorical(y_test)\n",
    "num_classes = y_test.shape[1]"
   ]
  },
  {
   "cell_type": "code",
   "execution_count": 19,
   "metadata": {},
   "outputs": [
    {
     "name": "stdout",
     "output_type": "stream",
     "text": [
      "(60000, 10)\n",
      "(10000, 10)\n",
      "10\n"
     ]
    }
   ],
   "source": [
    "print(y_train.shape)\n",
    "print(y_test.shape)\n",
    "print(num_classes)"
   ]
  },
  {
   "cell_type": "markdown",
   "metadata": {},
   "source": [
    "# One hidden layer with the same number of neurons as there are inputs(784)"
   ]
  },
  {
   "cell_type": "code",
   "execution_count": 20,
   "metadata": {},
   "outputs": [],
   "source": [
    "## define baseline model\n",
    "\n",
    "def baseline_model ():\n",
    "    model = Sequential()\n",
    "    model.add(Dense(num_pixels,input_dim = num_pixels, kernel_initializer ='normal',activation='relu'))\n",
    "    model.add(Dense(num_classes, kernel_initializer='normal',activation='softmax'))\n",
    "## compile the model\n",
    "    model.compile(loss='categorical_crossentropy',optimizer='adam',metrics=['accuracy'])\n",
    "    return model"
   ]
  },
  {
   "cell_type": "code",
   "execution_count": 21,
   "metadata": {},
   "outputs": [],
   "source": [
    "model = baseline_model()"
   ]
  },
  {
   "cell_type": "code",
   "execution_count": 23,
   "metadata": {},
   "outputs": [
    {
     "name": "stdout",
     "output_type": "stream",
     "text": [
      "Train on 60000 samples, validate on 10000 samples\n",
      "Epoch 1/10\n",
      " - 7s - loss: 0.0069 - acc: 0.9988 - val_loss: 0.0577 - val_acc: 0.9834\n",
      "Epoch 2/10\n",
      " - 7s - loss: 0.0044 - acc: 0.9994 - val_loss: 0.0549 - val_acc: 0.9829\n",
      "Epoch 3/10\n",
      " - 7s - loss: 0.0027 - acc: 0.9999 - val_loss: 0.0589 - val_acc: 0.9831\n",
      "Epoch 4/10\n",
      " - 7s - loss: 0.0019 - acc: 0.9999 - val_loss: 0.0561 - val_acc: 0.9843\n",
      "Epoch 5/10\n",
      " - 7s - loss: 0.0013 - acc: 1.0000 - val_loss: 0.0595 - val_acc: 0.9838\n",
      "Epoch 6/10\n",
      " - 7s - loss: 0.0010 - acc: 1.0000 - val_loss: 0.0607 - val_acc: 0.9839\n",
      "Epoch 7/10\n",
      " - 7s - loss: 7.8416e-04 - acc: 1.0000 - val_loss: 0.0603 - val_acc: 0.9834\n",
      "Epoch 8/10\n",
      " - 7s - loss: 0.0019 - acc: 0.9996 - val_loss: 0.0797 - val_acc: 0.9800\n",
      "Epoch 9/10\n",
      " - 7s - loss: 0.0253 - acc: 0.9915 - val_loss: 0.0746 - val_acc: 0.9802\n",
      "Epoch 10/10\n",
      " - 7s - loss: 0.0067 - acc: 0.9979 - val_loss: 0.0649 - val_acc: 0.9831\n",
      "10000/10000 [==============================] - 1s 75us/step\n",
      "Baseline Error: 1.69%\n"
     ]
    }
   ],
   "source": [
    "model.fit(X_train, y_train, validation_data =(X_test,y_test) , epochs =10 , batch_size=200 , verbose=2)\n",
    "\n",
    "scores = model.evaluate(X_test, y_test)\n",
    "print(\"Baseline Error: %.2f%%\" % (100-scores[1] * 100))"
   ]
  },
  {
   "cell_type": "code",
   "execution_count": null,
   "metadata": {},
   "outputs": [],
   "source": []
  }
 ],
 "metadata": {
  "kernelspec": {
   "display_name": "Python 3",
   "language": "python",
   "name": "python3"
  },
  "language_info": {
   "codemirror_mode": {
    "name": "ipython",
    "version": 3
   },
   "file_extension": ".py",
   "mimetype": "text/x-python",
   "name": "python",
   "nbconvert_exporter": "python",
   "pygments_lexer": "ipython3",
   "version": "3.6.8"
  }
 },
 "nbformat": 4,
 "nbformat_minor": 2
}
